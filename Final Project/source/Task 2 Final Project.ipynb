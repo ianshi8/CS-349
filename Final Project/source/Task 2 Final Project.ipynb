{
 "cells": [
  {
   "cell_type": "code",
   "execution_count": 2,
   "metadata": {
    "tags": []
   },
   "outputs": [],
   "source": [
    "# importing libraries \n",
    "import numpy as np\n",
    "import pandas as pd\n",
    "import math\n",
    "\n",
    "import nltk\n",
    "from nltk.sentiment.vader import SentimentIntensityAnalyzer\n",
    "from nltk.corpus import stopwords\n",
    "from nltk.tokenize import word_tokenize\n",
    "from nltk.stem import WordNetLemmatizer\n",
    "\n",
    "from sklearn.naive_bayes import GaussianNB, MultinomialNB\n",
    "from sklearn.linear_model import LogisticRegression\n",
    "from sklearn.tree import DecisionTreeClassifier\n",
    "from sklearn.ensemble import RandomForestClassifier\n",
    "from sklearn.neighbors import KNeighborsClassifier\n",
    "from sklearn.feature_selection import GenericUnivariateSelect, RFECV, chi2\n",
    "from sklearn.model_selection import train_test_split, cross_val_score, GridSearchCV, RandomizedSearchCV\n",
    "from sklearn import metrics\n",
    "from scipy.stats import randint\n",
    "from sklearn.preprocessing import MinMaxScaler\n",
    "\n",
    "from sklearn import svm\n",
    "from sklearn.ensemble import VotingClassifier\n",
    "\n",
    "from sklearn.metrics import (\n",
    "    accuracy_score,\n",
    "    confusion_matrix,\n",
    "    ConfusionMatrixDisplay,\n",
    "    f1_score,\n",
    "    classification_report,\n",
    ")"
   ]
  },
  {
   "cell_type": "code",
   "execution_count": 22,
   "metadata": {},
   "outputs": [],
   "source": [
    "CD_rev_train = pd.read_json(\"./full_preprocessed_sentiment.json\")\n",
    "CD_prod_train = pd.read_json(\"./devided_dataset_v2/CDs_and_Vinyl/train/product_training.json\")"
   ]
  },
  {
   "cell_type": "code",
   "execution_count": 23,
   "metadata": {},
   "outputs": [
    {
     "data": {
      "text/html": [
       "<div>\n",
       "<style scoped>\n",
       "    .dataframe tbody tr th:only-of-type {\n",
       "        vertical-align: middle;\n",
       "    }\n",
       "\n",
       "    .dataframe tbody tr th {\n",
       "        vertical-align: top;\n",
       "    }\n",
       "\n",
       "    .dataframe thead th {\n",
       "        text-align: right;\n",
       "    }\n",
       "</style>\n",
       "<table border=\"1\" class=\"dataframe\">\n",
       "  <thead>\n",
       "    <tr style=\"text-align: right;\">\n",
       "      <th></th>\n",
       "      <th>asin</th>\n",
       "      <th>reviewerID</th>\n",
       "      <th>unixReviewTime</th>\n",
       "      <th>vote</th>\n",
       "      <th>verified</th>\n",
       "      <th>reviewTime</th>\n",
       "      <th>style</th>\n",
       "      <th>reviewerName</th>\n",
       "      <th>reviewText</th>\n",
       "      <th>summary</th>\n",
       "      <th>image</th>\n",
       "      <th>rev_compSentiment</th>\n",
       "      <th>summ_compSentiment</th>\n",
       "      <th>rev_Sentiment</th>\n",
       "      <th>summ_Sentiment</th>\n",
       "      <th>rev_posSentiment</th>\n",
       "      <th>summ_posSentiment</th>\n",
       "      <th>rev_negSentiment</th>\n",
       "      <th>summ_negSentiment</th>\n",
       "    </tr>\n",
       "  </thead>\n",
       "  <tbody>\n",
       "    <tr>\n",
       "      <th>0</th>\n",
       "      <td>6673F1740E03573BCD64238FE711FC69</td>\n",
       "      <td>9C856D4A18E1355783B3B28B7ECC1848</td>\n",
       "      <td>1451520000</td>\n",
       "      <td>9</td>\n",
       "      <td>True</td>\n",
       "      <td>12 31, 2015</td>\n",
       "      <td>{'Format:': ' MP3 Music'}</td>\n",
       "      <td>8D88BB79AAC50277AEE82FCFD77F6744</td>\n",
       "      <td>finding beatles better ever huge beatles fan o...</td>\n",
       "      <td>sit listening jaw floor could good need anothe...</td>\n",
       "      <td>False</td>\n",
       "      <td>0.9950</td>\n",
       "      <td>0.4404</td>\n",
       "      <td>1</td>\n",
       "      <td>1</td>\n",
       "      <td>0.409</td>\n",
       "      <td>0.244</td>\n",
       "      <td>0.000</td>\n",
       "      <td>0.0</td>\n",
       "    </tr>\n",
       "    <tr>\n",
       "      <th>1</th>\n",
       "      <td>690819436E20BB31657AF6B58B984DD4</td>\n",
       "      <td>6E9ABBD26A27C2B2851D1EC34A01CBDC</td>\n",
       "      <td>1113523200</td>\n",
       "      <td>9</td>\n",
       "      <td>False</td>\n",
       "      <td>04 15, 2005</td>\n",
       "      <td>{'Format:': ' Audio CD'}</td>\n",
       "      <td>8DC0611245A871AC51BBEEBB85F33A58</td>\n",
       "      <td>guy sing classic tune poignant painful heartfe...</td>\n",
       "      <td>appreciated</td>\n",
       "      <td>False</td>\n",
       "      <td>0.7057</td>\n",
       "      <td>0.5106</td>\n",
       "      <td>1</td>\n",
       "      <td>1</td>\n",
       "      <td>0.201</td>\n",
       "      <td>1.000</td>\n",
       "      <td>0.066</td>\n",
       "      <td>0.0</td>\n",
       "    </tr>\n",
       "  </tbody>\n",
       "</table>\n",
       "</div>"
      ],
      "text/plain": [
       "                               asin                        reviewerID   \n",
       "0  6673F1740E03573BCD64238FE711FC69  9C856D4A18E1355783B3B28B7ECC1848  \\\n",
       "1  690819436E20BB31657AF6B58B984DD4  6E9ABBD26A27C2B2851D1EC34A01CBDC   \n",
       "\n",
       "   unixReviewTime  vote  verified   reviewTime                      style   \n",
       "0      1451520000     9      True  12 31, 2015  {'Format:': ' MP3 Music'}  \\\n",
       "1      1113523200     9     False  04 15, 2005   {'Format:': ' Audio CD'}   \n",
       "\n",
       "                       reviewerName   \n",
       "0  8D88BB79AAC50277AEE82FCFD77F6744  \\\n",
       "1  8DC0611245A871AC51BBEEBB85F33A58   \n",
       "\n",
       "                                          reviewText   \n",
       "0  finding beatles better ever huge beatles fan o...  \\\n",
       "1  guy sing classic tune poignant painful heartfe...   \n",
       "\n",
       "                                             summary  image   \n",
       "0  sit listening jaw floor could good need anothe...  False  \\\n",
       "1                                        appreciated  False   \n",
       "\n",
       "   rev_compSentiment  summ_compSentiment  rev_Sentiment  summ_Sentiment   \n",
       "0             0.9950              0.4404              1               1  \\\n",
       "1             0.7057              0.5106              1               1   \n",
       "\n",
       "   rev_posSentiment  summ_posSentiment  rev_negSentiment  summ_negSentiment  \n",
       "0             0.409              0.244             0.000                0.0  \n",
       "1             0.201              1.000             0.066                0.0  "
      ]
     },
     "execution_count": 23,
     "metadata": {},
     "output_type": "execute_result"
    }
   ],
   "source": [
    "CD_rev_train.head(2)"
   ]
  },
  {
   "cell_type": "code",
   "execution_count": 3,
   "metadata": {
    "tags": []
   },
   "outputs": [
    {
     "data": {
      "text/html": [
       "<div>\n",
       "<style scoped>\n",
       "    .dataframe tbody tr th:only-of-type {\n",
       "        vertical-align: middle;\n",
       "    }\n",
       "\n",
       "    .dataframe tbody tr th {\n",
       "        vertical-align: top;\n",
       "    }\n",
       "\n",
       "    .dataframe thead th {\n",
       "        text-align: right;\n",
       "    }\n",
       "</style>\n",
       "<table border=\"1\" class=\"dataframe\">\n",
       "  <thead>\n",
       "    <tr style=\"text-align: right;\">\n",
       "      <th></th>\n",
       "      <th>reviewerID</th>\n",
       "      <th>vote</th>\n",
       "      <th>verified</th>\n",
       "      <th>unixReviewTime</th>\n",
       "      <th>rev_Sentiment</th>\n",
       "      <th>summ_Sentiment</th>\n",
       "      <th>rev_compSentiment</th>\n",
       "      <th>summ_compSentiment</th>\n",
       "      <th>rev_posSentiment</th>\n",
       "      <th>summ_posSentiment</th>\n",
       "      <th>...</th>\n",
       "      <th>asin</th>\n",
       "      <th>awesomeness</th>\n",
       "      <th>rev_posNegRatio</th>\n",
       "      <th>summ_posNegRatio</th>\n",
       "      <th>summToRev</th>\n",
       "      <th>normalized_time</th>\n",
       "      <th>max_upvote</th>\n",
       "      <th>av_word_count</th>\n",
       "      <th>total_reviews</th>\n",
       "      <th>norm_time_diff</th>\n",
       "    </tr>\n",
       "  </thead>\n",
       "  <tbody>\n",
       "    <tr>\n",
       "      <th>0</th>\n",
       "      <td>4</td>\n",
       "      <td>1.500000</td>\n",
       "      <td>0.500000</td>\n",
       "      <td>933552000</td>\n",
       "      <td>1</td>\n",
       "      <td>1</td>\n",
       "      <td>0.892900</td>\n",
       "      <td>0.362375</td>\n",
       "      <td>0.548250</td>\n",
       "      <td>0.380000</td>\n",
       "      <td>...</td>\n",
       "      <td>0000B049F5B33CD310EB1AB236E20191</td>\n",
       "      <td>1</td>\n",
       "      <td>1.493009</td>\n",
       "      <td>1.380000</td>\n",
       "      <td>0.719729</td>\n",
       "      <td>0.710932</td>\n",
       "      <td>6</td>\n",
       "      <td>43.250000</td>\n",
       "      <td>4</td>\n",
       "      <td>7.732503</td>\n",
       "    </tr>\n",
       "    <tr>\n",
       "      <th>1</th>\n",
       "      <td>18</td>\n",
       "      <td>2.500000</td>\n",
       "      <td>0.166667</td>\n",
       "      <td>983836800</td>\n",
       "      <td>1</td>\n",
       "      <td>1</td>\n",
       "      <td>0.682206</td>\n",
       "      <td>0.190683</td>\n",
       "      <td>0.272444</td>\n",
       "      <td>0.275333</td>\n",
       "      <td>...</td>\n",
       "      <td>00018184A9EC4D270219A296B2580303</td>\n",
       "      <td>0</td>\n",
       "      <td>1.160342</td>\n",
       "      <td>1.212806</td>\n",
       "      <td>0.707811</td>\n",
       "      <td>1.491616</td>\n",
       "      <td>22</td>\n",
       "      <td>120.611111</td>\n",
       "      <td>18</td>\n",
       "      <td>8.080412</td>\n",
       "    </tr>\n",
       "    <tr>\n",
       "      <th>2</th>\n",
       "      <td>4</td>\n",
       "      <td>1.250000</td>\n",
       "      <td>0.750000</td>\n",
       "      <td>1040342400</td>\n",
       "      <td>1</td>\n",
       "      <td>0</td>\n",
       "      <td>0.716600</td>\n",
       "      <td>-0.081925</td>\n",
       "      <td>0.420000</td>\n",
       "      <td>0.131000</td>\n",
       "      <td>...</td>\n",
       "      <td>000281A9CAC43FF1F335726A390636DA</td>\n",
       "      <td>0</td>\n",
       "      <td>1.391475</td>\n",
       "      <td>0.782970</td>\n",
       "      <td>0.534822</td>\n",
       "      <td>2.368880</td>\n",
       "      <td>5</td>\n",
       "      <td>70.000000</td>\n",
       "      <td>4</td>\n",
       "      <td>5.904968</td>\n",
       "    </tr>\n",
       "    <tr>\n",
       "      <th>3</th>\n",
       "      <td>29</td>\n",
       "      <td>2.862069</td>\n",
       "      <td>0.586207</td>\n",
       "      <td>1001030400</td>\n",
       "      <td>1</td>\n",
       "      <td>0</td>\n",
       "      <td>0.658507</td>\n",
       "      <td>0.258576</td>\n",
       "      <td>0.451897</td>\n",
       "      <td>0.303552</td>\n",
       "      <td>...</td>\n",
       "      <td>00030884DF109F325638A6BFD5B13CFF</td>\n",
       "      <td>1</td>\n",
       "      <td>1.411451</td>\n",
       "      <td>1.281892</td>\n",
       "      <td>0.758861</td>\n",
       "      <td>1.758551</td>\n",
       "      <td>37</td>\n",
       "      <td>41.551724</td>\n",
       "      <td>29</td>\n",
       "      <td>7.769054</td>\n",
       "    </tr>\n",
       "    <tr>\n",
       "      <th>4</th>\n",
       "      <td>4</td>\n",
       "      <td>1.750000</td>\n",
       "      <td>1.000000</td>\n",
       "      <td>1283472000</td>\n",
       "      <td>1</td>\n",
       "      <td>0</td>\n",
       "      <td>0.768650</td>\n",
       "      <td>0.025250</td>\n",
       "      <td>0.477250</td>\n",
       "      <td>0.100000</td>\n",
       "      <td>...</td>\n",
       "      <td>000325BA25966B5FC701D5D2B5DBA4E0</td>\n",
       "      <td>0</td>\n",
       "      <td>1.410599</td>\n",
       "      <td>1.011262</td>\n",
       "      <td>0.579679</td>\n",
       "      <td>6.143528</td>\n",
       "      <td>7</td>\n",
       "      <td>41.500000</td>\n",
       "      <td>4</td>\n",
       "      <td>2.712874</td>\n",
       "    </tr>\n",
       "    <tr>\n",
       "      <th>...</th>\n",
       "      <td>...</td>\n",
       "      <td>...</td>\n",
       "      <td>...</td>\n",
       "      <td>...</td>\n",
       "      <td>...</td>\n",
       "      <td>...</td>\n",
       "      <td>...</td>\n",
       "      <td>...</td>\n",
       "      <td>...</td>\n",
       "      <td>...</td>\n",
       "      <td>...</td>\n",
       "      <td>...</td>\n",
       "      <td>...</td>\n",
       "      <td>...</td>\n",
       "      <td>...</td>\n",
       "      <td>...</td>\n",
       "      <td>...</td>\n",
       "      <td>...</td>\n",
       "      <td>...</td>\n",
       "      <td>...</td>\n",
       "      <td>...</td>\n",
       "    </tr>\n",
       "    <tr>\n",
       "      <th>73077</th>\n",
       "      <td>64</td>\n",
       "      <td>0.890625</td>\n",
       "      <td>0.375000</td>\n",
       "      <td>914025600</td>\n",
       "      <td>1</td>\n",
       "      <td>1</td>\n",
       "      <td>0.657161</td>\n",
       "      <td>0.205630</td>\n",
       "      <td>0.393672</td>\n",
       "      <td>0.377188</td>\n",
       "      <td>...</td>\n",
       "      <td>FFFDD3C72D23AF858D6E0ED92612370D</td>\n",
       "      <td>1</td>\n",
       "      <td>1.257596</td>\n",
       "      <td>1.249929</td>\n",
       "      <td>0.727527</td>\n",
       "      <td>0.407780</td>\n",
       "      <td>17</td>\n",
       "      <td>88.687500</td>\n",
       "      <td>64</td>\n",
       "      <td>9.298768</td>\n",
       "    </tr>\n",
       "    <tr>\n",
       "      <th>73078</th>\n",
       "      <td>4</td>\n",
       "      <td>2.000000</td>\n",
       "      <td>0.500000</td>\n",
       "      <td>1127088000</td>\n",
       "      <td>1</td>\n",
       "      <td>1</td>\n",
       "      <td>0.955525</td>\n",
       "      <td>0.242350</td>\n",
       "      <td>0.473500</td>\n",
       "      <td>0.379250</td>\n",
       "      <td>...</td>\n",
       "      <td>FFFDDE284A73B29B320381487EC7DE9E</td>\n",
       "      <td>1</td>\n",
       "      <td>1.447446</td>\n",
       "      <td>1.379250</td>\n",
       "      <td>0.635303</td>\n",
       "      <td>3.715627</td>\n",
       "      <td>6</td>\n",
       "      <td>77.500000</td>\n",
       "      <td>4</td>\n",
       "      <td>5.944226</td>\n",
       "    </tr>\n",
       "    <tr>\n",
       "      <th>73079</th>\n",
       "      <td>2</td>\n",
       "      <td>0.000000</td>\n",
       "      <td>1.000000</td>\n",
       "      <td>1345852800</td>\n",
       "      <td>1</td>\n",
       "      <td>1</td>\n",
       "      <td>0.972300</td>\n",
       "      <td>0.038600</td>\n",
       "      <td>0.365500</td>\n",
       "      <td>0.199000</td>\n",
       "      <td>...</td>\n",
       "      <td>FFFEB3EE2372807964F024707D50FB21</td>\n",
       "      <td>0</td>\n",
       "      <td>1.312981</td>\n",
       "      <td>1.015671</td>\n",
       "      <td>0.526593</td>\n",
       "      <td>7.112005</td>\n",
       "      <td>0</td>\n",
       "      <td>59.500000</td>\n",
       "      <td>2</td>\n",
       "      <td>0.100176</td>\n",
       "    </tr>\n",
       "    <tr>\n",
       "      <th>73080</th>\n",
       "      <td>7</td>\n",
       "      <td>1.571429</td>\n",
       "      <td>0.571429</td>\n",
       "      <td>1416182400</td>\n",
       "      <td>1</td>\n",
       "      <td>1</td>\n",
       "      <td>0.527357</td>\n",
       "      <td>0.395614</td>\n",
       "      <td>0.240429</td>\n",
       "      <td>0.323000</td>\n",
       "      <td>...</td>\n",
       "      <td>FFFF4545AB232D81D0F9B208388BB7AA</td>\n",
       "      <td>1</td>\n",
       "      <td>1.081724</td>\n",
       "      <td>1.266029</td>\n",
       "      <td>0.913745</td>\n",
       "      <td>8.203890</td>\n",
       "      <td>8</td>\n",
       "      <td>96.285714</td>\n",
       "      <td>7</td>\n",
       "      <td>0.468390</td>\n",
       "    </tr>\n",
       "    <tr>\n",
       "      <th>73081</th>\n",
       "      <td>27</td>\n",
       "      <td>2.518519</td>\n",
       "      <td>0.037037</td>\n",
       "      <td>1096934400</td>\n",
       "      <td>1</td>\n",
       "      <td>0</td>\n",
       "      <td>0.401585</td>\n",
       "      <td>0.096000</td>\n",
       "      <td>0.249963</td>\n",
       "      <td>0.299815</td>\n",
       "      <td>...</td>\n",
       "      <td>FFFF5A3D9CB0B40FF0FE6B95F05D26FE</td>\n",
       "      <td>1</td>\n",
       "      <td>1.081075</td>\n",
       "      <td>1.079182</td>\n",
       "      <td>0.781972</td>\n",
       "      <td>3.247485</td>\n",
       "      <td>18</td>\n",
       "      <td>105.296296</td>\n",
       "      <td>27</td>\n",
       "      <td>6.296196</td>\n",
       "    </tr>\n",
       "  </tbody>\n",
       "</table>\n",
       "<p>73082 rows × 23 columns</p>\n",
       "</div>"
      ],
      "text/plain": [
       "       reviewerID      vote  verified  unixReviewTime  rev_Sentiment   \n",
       "0               4  1.500000  0.500000       933552000              1  \\\n",
       "1              18  2.500000  0.166667       983836800              1   \n",
       "2               4  1.250000  0.750000      1040342400              1   \n",
       "3              29  2.862069  0.586207      1001030400              1   \n",
       "4               4  1.750000  1.000000      1283472000              1   \n",
       "...           ...       ...       ...             ...            ...   \n",
       "73077          64  0.890625  0.375000       914025600              1   \n",
       "73078           4  2.000000  0.500000      1127088000              1   \n",
       "73079           2  0.000000  1.000000      1345852800              1   \n",
       "73080           7  1.571429  0.571429      1416182400              1   \n",
       "73081          27  2.518519  0.037037      1096934400              1   \n",
       "\n",
       "       summ_Sentiment  rev_compSentiment  summ_compSentiment   \n",
       "0                   1           0.892900            0.362375  \\\n",
       "1                   1           0.682206            0.190683   \n",
       "2                   0           0.716600           -0.081925   \n",
       "3                   0           0.658507            0.258576   \n",
       "4                   0           0.768650            0.025250   \n",
       "...               ...                ...                 ...   \n",
       "73077               1           0.657161            0.205630   \n",
       "73078               1           0.955525            0.242350   \n",
       "73079               1           0.972300            0.038600   \n",
       "73080               1           0.527357            0.395614   \n",
       "73081               0           0.401585            0.096000   \n",
       "\n",
       "       rev_posSentiment  summ_posSentiment  ...   \n",
       "0              0.548250           0.380000  ...  \\\n",
       "1              0.272444           0.275333  ...   \n",
       "2              0.420000           0.131000  ...   \n",
       "3              0.451897           0.303552  ...   \n",
       "4              0.477250           0.100000  ...   \n",
       "...                 ...                ...  ...   \n",
       "73077          0.393672           0.377188  ...   \n",
       "73078          0.473500           0.379250  ...   \n",
       "73079          0.365500           0.199000  ...   \n",
       "73080          0.240429           0.323000  ...   \n",
       "73081          0.249963           0.299815  ...   \n",
       "\n",
       "                                   asin  awesomeness  rev_posNegRatio   \n",
       "0      0000B049F5B33CD310EB1AB236E20191            1         1.493009  \\\n",
       "1      00018184A9EC4D270219A296B2580303            0         1.160342   \n",
       "2      000281A9CAC43FF1F335726A390636DA            0         1.391475   \n",
       "3      00030884DF109F325638A6BFD5B13CFF            1         1.411451   \n",
       "4      000325BA25966B5FC701D5D2B5DBA4E0            0         1.410599   \n",
       "...                                 ...          ...              ...   \n",
       "73077  FFFDD3C72D23AF858D6E0ED92612370D            1         1.257596   \n",
       "73078  FFFDDE284A73B29B320381487EC7DE9E            1         1.447446   \n",
       "73079  FFFEB3EE2372807964F024707D50FB21            0         1.312981   \n",
       "73080  FFFF4545AB232D81D0F9B208388BB7AA            1         1.081724   \n",
       "73081  FFFF5A3D9CB0B40FF0FE6B95F05D26FE            1         1.081075   \n",
       "\n",
       "      summ_posNegRatio  summToRev  normalized_time  max_upvote  av_word_count   \n",
       "0             1.380000   0.719729         0.710932           6      43.250000  \\\n",
       "1             1.212806   0.707811         1.491616          22     120.611111   \n",
       "2             0.782970   0.534822         2.368880           5      70.000000   \n",
       "3             1.281892   0.758861         1.758551          37      41.551724   \n",
       "4             1.011262   0.579679         6.143528           7      41.500000   \n",
       "...                ...        ...              ...         ...            ...   \n",
       "73077         1.249929   0.727527         0.407780          17      88.687500   \n",
       "73078         1.379250   0.635303         3.715627           6      77.500000   \n",
       "73079         1.015671   0.526593         7.112005           0      59.500000   \n",
       "73080         1.266029   0.913745         8.203890           8      96.285714   \n",
       "73081         1.079182   0.781972         3.247485          18     105.296296   \n",
       "\n",
       "       total_reviews  norm_time_diff  \n",
       "0                  4        7.732503  \n",
       "1                 18        8.080412  \n",
       "2                  4        5.904968  \n",
       "3                 29        7.769054  \n",
       "4                  4        2.712874  \n",
       "...              ...             ...  \n",
       "73077             64        9.298768  \n",
       "73078              4        5.944226  \n",
       "73079              2        0.100176  \n",
       "73080              7        0.468390  \n",
       "73081             27        6.296196  \n",
       "\n",
       "[73082 rows x 23 columns]"
      ]
     },
     "execution_count": 3,
     "metadata": {},
     "output_type": "execute_result"
    }
   ],
   "source": [
    "prod_train = pd.read_json(\"preprocessed_data.json\")\n",
    "prod_train"
   ]
  },
  {
   "attachments": {},
   "cell_type": "markdown",
   "metadata": {},
   "source": [
    "## Adding Features for Task 2"
   ]
  },
  {
   "cell_type": "code",
   "execution_count": 9,
   "metadata": {},
   "outputs": [],
   "source": [
    "# adding features for task 2\n",
    "# max upvote\n",
    "max_upvote = CD_rev_train.groupby('asin')['vote'].max()\n",
    "max_upvote = max_upvote.values.reshape(-1, 1)\n",
    "\n",
    "# normalized earliest rev from 0 to 10\n",
    "earliest_rev = CD_rev_train.groupby('asin')['unixReviewTime'].min()\n",
    "scaler = MinMaxScaler(feature_range=(0, 10))\n",
    "normalized_rev = earliest_rev.values.reshape(-1, 1)\n",
    "normalized_rev = scaler.fit_transform(normalized_rev)\n",
    "\n",
    "# length of review\n",
    "CD_rev_train['rev_word_count'] = CD_rev_train['reviewText'].str.split().apply(len)\n",
    "av_word_count = CD_rev_train.groupby('asin')['rev_word_count'].mean()\n",
    "av_word_count = av_word_count.values.reshape(-1,1)\n"
   ]
  },
  {
   "cell_type": "code",
   "execution_count": 28,
   "metadata": {},
   "outputs": [],
   "source": [
    "# TOTAL number of reviews (we have unique reviews)\n",
    "total_reviews = CD_rev_train.groupby('asin')['reviewerID'].count()\n",
    "total_reviews = total_reviews.values.reshape(-1,1)\n",
    "\n",
    "# difference in review time (normalized from 0 to 10)\n",
    "time_diff = CD_rev_train.groupby('asin')['unixReviewTime'].apply(lambda x: x.max() - x.min())\n",
    "norm_time_diff = time_diff.values.reshape(-1,1)\n",
    "norm_time_diff = scaler.fit_transform(norm_time_diff)\n",
    "\n",
    "# fixing image feature\n",
    "prod_image = CD_rev_train.groupby('asin')['image'].mean()\n",
    "prod_image = prod_image.values.reshape(-1,1)\n"
   ]
  },
  {
   "cell_type": "code",
   "execution_count": 29,
   "metadata": {},
   "outputs": [],
   "source": [
    "prod_train['normalized_time'] = normalized_rev\n",
    "prod_train['max_upvote'] = max_upvote\n",
    "prod_train['av_word_count'] = av_word_count\n",
    "prod_train['total_reviews'] = total_reviews\n",
    "prod_train['norm_time_diff'] = norm_time_diff\n",
    "prod_train['image'] = prod_image"
   ]
  },
  {
   "cell_type": "code",
   "execution_count": 5,
   "metadata": {},
   "outputs": [],
   "source": [
    "# # positive to negative sentiment ratio\n",
    "# prod_train['rev_posNegRatio'] = (prod_train['rev_posSentiment'] + 1) \\\n",
    "#     / (prod_train['rev_negSentiment'] + 1)\n",
    "# prod_train['summ_posNegRatio'] = (prod_train['summ_posSentiment'] + 1) \\\n",
    "#     / (prod_train['summ_negSentiment'] + 1)\n",
    "\n",
    "# # summary to review sentiment ratio\n",
    "# prod_train['summToRev'] = (prod_train['summ_compSentiment'] + 1) \\\n",
    "#     / (prod_train['rev_compSentiment'] + 1)"
   ]
  },
  {
   "cell_type": "code",
   "execution_count": 18,
   "metadata": {},
   "outputs": [],
   "source": [
    "#prod_train.to_json(r'/Users/IanShi/Desktop/Classwork/CS 349/cs349-project/preprocessed_data.json')"
   ]
  },
  {
   "attachments": {},
   "cell_type": "markdown",
   "metadata": {},
   "source": [
    "## Model Testing"
   ]
  },
  {
   "cell_type": "code",
   "execution_count": 5,
   "metadata": {
    "tags": []
   },
   "outputs": [],
   "source": [
    "features = prod_train.groupby('awesomeness').mean(numeric_only = True)\n",
    "features = list(features.columns)#features = ['verified','rev_posSentiment', 'rev_negSentiment', 'summ_negSentiment', 'rev_posNegRatio', 'summ_posNegRatio', 'summToRev']\n",
    "X = prod_train[features]\n",
    "Y = prod_train['awesomeness']"
   ]
  },
  {
   "cell_type": "code",
   "execution_count": 7,
   "metadata": {
    "tags": []
   },
   "outputs": [],
   "source": [
    "# splitting data into train and test (70/30)\n",
    "X_train, X_test, Y_train, Y_test = train_test_split(X, Y, test_size = 0.3, random_state = 1)"
   ]
  },
  {
   "cell_type": "code",
   "execution_count": 28,
   "metadata": {},
   "outputs": [],
   "source": [
    "# recursive feature elimination (for classifiers that don't work with the sklearn one)\n",
    "# by f1 score\n",
    "def feature_elim_f1(X_train, X_test, Y_train, Y_test, classifier, cfeatures):\n",
    "    classifier.fit(X_train[cfeatures], Y_train)\n",
    "    cv_score = cross_val_score(classifier, X[cfeatures], Y, cv = 10, scoring='f1')\n",
    "    start_val = np.mean(cv_score)\n",
    "    new_val = 0\n",
    "    new_features = cfeatures\n",
    "    for feature in cfeatures:\n",
    "        f_set = [f for f in cfeatures if f != feature]\n",
    "        classifier.fit(X_train[f_set], Y_train)\n",
    "        cv_score = cross_val_score(classifier, X[f_set], Y, cv = 10, scoring='f1')\n",
    "        temp_val = np.mean(cv_score)\n",
    "        if temp_val > new_val:\n",
    "            new_val = temp_val\n",
    "            new_features = f_set\n",
    "    if new_val > start_val:\n",
    "        return feature_elim_f1(X_train, X_test, Y_train, Y_test, classifier, new_features)\n",
    "    return cfeatures\n",
    "\n",
    "# recursive feature elimination (for classifiers that don't work with the sklearn one)\n",
    "# by accuracy\n",
    "def feature_elim_acc(X_train, X_test, Y_train, Y_test, classifier, cfeatures):\n",
    "    classifier.fit(X_train[cfeatures], Y_train)\n",
    "    cpred = classifier.predict(X_test[cfeatures])\n",
    "    start_val = metrics.accuracy_score(Y_test, cpred)\n",
    "    new_val = 0\n",
    "    new_features = cfeatures\n",
    "    for feature in cfeatures:\n",
    "        f_set = [f for f in cfeatures if f != feature]\n",
    "        classifier.fit(X_train[f_set], Y_train)\n",
    "        cpred = classifier.predict(X_test[f_set])\n",
    "        temp_val = metrics.accuracy_score(Y_test, cpred)\n",
    "        if temp_val > new_val:\n",
    "            new_val = temp_val\n",
    "            new_features = f_set\n",
    "    if new_val > start_val:\n",
    "        return feature_elim_acc(X_train, X_test, Y_train, Y_test, classifier, new_features)\n",
    "    return cfeatures"
   ]
  },
  {
   "cell_type": "code",
   "execution_count": 36,
   "metadata": {
    "tags": []
   },
   "outputs": [
    {
     "name": "stdout",
     "output_type": "stream",
     "text": [
      "Gaussian NB Accuracy: 0.5894640820980616\n",
      "Mean CV F1 Score: 0.6383518491109863\n",
      "Standard Deviation F1 Score: 0.006228881229503236\n"
     ]
    }
   ],
   "source": [
    "# gnb\n",
    "gnb = GaussianNB()\n",
    "\n",
    "'''\n",
    "# results of feature optimization: ['vote', 'verified', 'rev_Sentiment', 'rev_posSentiment', 'rev_negSentiment', 'summ_negSentiment', 'image', 'rev_posNegRatio', 'normalized_time', 'max_upvote', 'norm_time_diff']\n",
    "gnb_features = features\n",
    "# cull features by accuracy bc doing it by f1 leads to combos putting all vecs in 1\n",
    "gnb_features = feature_elim_acc(X_train, X_test, Y_train, Y_test, gnb, gnb_features)\n",
    "'''\n",
    "\n",
    "gnb_features = ['vote', 'verified', 'rev_Sentiment', 'rev_posSentiment', 'rev_negSentiment', 'summ_negSentiment', 'image', 'rev_posNegRatio', 'normalized_time', 'max_upvote', 'norm_time_diff']\n",
    "gnb.fit(X_train[gnb_features], Y_train)\n",
    "gnb_pred = gnb.predict(X_test[gnb_features])\n",
    "\n",
    "# model accuracy\n",
    "print(\"Gaussian NB Accuracy:\",metrics.accuracy_score(Y_test, gnb_pred))\n",
    "\n",
    "# 10 fold cross validation\n",
    "gnb_cv = cross_val_score(gnb, X[gnb_features], Y, cv = 10, scoring='f1')\n",
    "print(\"Mean CV F1 Score:\", np.mean(gnb_cv))\n",
    "print(\"Standard Deviation F1 Score:\", np.std(gnb_cv))"
   ]
  },
  {
   "cell_type": "code",
   "execution_count": 37,
   "metadata": {},
   "outputs": [
    {
     "name": "stdout",
     "output_type": "stream",
     "text": [
      "              precision    recall  f1-score   support\n",
      "\n",
      "           0       0.58      0.43      0.49     10234\n",
      "           1       0.59      0.73      0.66     11691\n",
      "\n",
      "    accuracy                           0.59     21925\n",
      "   macro avg       0.59      0.58      0.57     21925\n",
      "weighted avg       0.59      0.59      0.58     21925\n",
      "\n"
     ]
    },
    {
     "data": {
      "image/png": "[encoded data removed]",
      "text/plain": [
       "<Figure size 640x480 with 2 Axes>"
      ]
     },
     "metadata": {},
     "output_type": "display_data"
    }
   ],
   "source": [
    "labels = [\"0\", \"1\"]\n",
    "cm = confusion_matrix(Y_test, gnb_pred)\n",
    "disp = ConfusionMatrixDisplay(confusion_matrix=cm, display_labels=labels)\n",
    "disp.plot()\n",
    "print(classification_report(Y_test, gnb_pred))"
   ]
  },
  {
   "cell_type": "code",
   "execution_count": 43,
   "metadata": {
    "tags": []
   },
   "outputs": [
    {
     "name": "stdout",
     "output_type": "stream",
     "text": [
      "Decision Tree Accuracy: 0.5882782212086659\n",
      "Mean CV F1 Score: 0.6507184660589886\n",
      "Standard Deviation F1 Score: 0.014231829886371117\n"
     ]
    }
   ],
   "source": [
    "## decision tree hyperparameter/feature optimization\n",
    "\n",
    "'''\n",
    "# use recursive feature elimination with cv (RFECV) to find best features\n",
    "# results: ['verified', 'rev_negSentiment', 'summ_negSentiment', 'total_reviews', 'norm_time_diff']\n",
    "tree = DecisionTreeClassifier(criterion='entropy', max_depth = 3)\n",
    "rfecv = RFECV(estimator=tree, scoring='f1', n_jobs=-1, cv=10, verbose=0)\n",
    "rfecv.fit(X_train, Y_train)\n",
    "tree_pred = rfecv.predict(X_test)\n",
    "print(\"Features:\", rfecv.get_feature_names_out(features))\n",
    "tree_cv = pd.DataFrame(rfecv.cv_results_)\n",
    "'''\n",
    "\n",
    "'''\n",
    "# use grid search to find best hyperparameters\n",
    "# the results are criterion: entropy, max_depth: 5\n",
    "param_grid = {\"criterion\": ['gini', 'entropy'], \"max_depth\": [x for x in range(1,11)]}\n",
    "tree = DecisionTreeClassifier()\n",
    "gs = GridSearchCV(estimator=tree, param_grid=param_grid, scoring='f1', n_jobs=-1, cv=10, verbose=2)\n",
    "gs.fit(X_train, Y_train)\n",
    "tree_pred = gs.predict(X_test)\n",
    "tree_cv = pd.DataFrame(gs.cv_results_)\n",
    "'''\n",
    "\n",
    "tree_features = ['verified', 'rev_negSentiment', 'summ_negSentiment', 'total_reviews', 'norm_time_diff']\n",
    "\n",
    "# decision tree\n",
    "tree = DecisionTreeClassifier(criterion='entropy', max_depth = 5)\n",
    "tree = tree.fit(X_train[tree_features], Y_train)\n",
    "tree_pred = tree.predict(X_test[tree_features])\n",
    "\n",
    "# model accuracy\n",
    "print(\"Decision Tree Accuracy:\",metrics.accuracy_score(Y_test, tree_pred))\n",
    "\n",
    "# 10 fold cross validation\n",
    "tree_cv = cross_val_score(tree, X, Y, cv = 10, scoring='f1')\n",
    "print(\"Mean CV F1 Score:\", np.mean(tree_cv))\n",
    "print(\"Standard Deviation F1 Score:\", np.std(tree_cv))"
   ]
  },
  {
   "cell_type": "code",
   "execution_count": 44,
   "metadata": {},
   "outputs": [
    {
     "name": "stdout",
     "output_type": "stream",
     "text": [
      "              precision    recall  f1-score   support\n",
      "\n",
      "           0       0.59      0.40      0.48     10234\n",
      "           1       0.59      0.75      0.66     11691\n",
      "\n",
      "    accuracy                           0.59     21925\n",
      "   macro avg       0.59      0.58      0.57     21925\n",
      "weighted avg       0.59      0.59      0.57     21925\n",
      "\n"
     ]
    },
    {
     "data": {
      "image/png": "[encoded data removed]",
      "text/plain": [
       "<Figure size 640x480 with 2 Axes>"
      ]
     },
     "metadata": {},
     "output_type": "display_data"
    }
   ],
   "source": [
    "# decision tree confusion matrix\n",
    "labels = [\"0\", \"1\"]\n",
    "cm = confusion_matrix(Y_test, tree_pred)\n",
    "disp = ConfusionMatrixDisplay(confusion_matrix=cm, display_labels=labels)\n",
    "disp.plot()\n",
    "print(classification_report(Y_test, tree_pred))"
   ]
  },
  {
   "cell_type": "code",
   "execution_count": 61,
   "metadata": {
    "tags": []
   },
   "outputs": [
    {
     "name": "stdout",
     "output_type": "stream",
     "text": [
      "Random Forest Accuracy: 0.5784264538198404\n",
      "Mean CV F1 Score: 0.677519205223198\n",
      "Standard Deviation F1 Score: 0.008745422389069848\n"
     ]
    }
   ],
   "source": [
    "rf = RandomForestClassifier(n_estimators = 28, max_depth = 1, n_jobs=-1)\n",
    "rf.fit(X_train, Y_train)\n",
    "rf_pred = rf.predict(X_test)\n",
    "\n",
    "# model accuracy\n",
    "print(\"Random Forest Accuracy:\",metrics.accuracy_score(Y_test, rf_pred))\n",
    "forest_cv = cross_val_score(rf, X, Y, cv = 10, scoring='f1')\n",
    "print(\"Mean CV F1 Score:\", np.mean(forest_cv))\n",
    "print(\"Standard Deviation F1 Score:\", np.std(forest_cv))"
   ]
  },
  {
   "cell_type": "code",
   "execution_count": 69,
   "metadata": {},
   "outputs": [
    {
     "name": "stdout",
     "output_type": "stream",
     "text": [
      "              precision    recall  f1-score   support\n",
      "\n",
      "           0       0.59      0.31      0.41     10234\n",
      "           1       0.57      0.81      0.67     11691\n",
      "\n",
      "    accuracy                           0.58     21925\n",
      "   macro avg       0.58      0.56      0.54     21925\n",
      "weighted avg       0.58      0.58      0.55     21925\n",
      "\n"
     ]
    },
    {
     "data": {
      "image/png": "[encoded data removed]",
      "text/plain": [
       "<Figure size 640x480 with 2 Axes>"
      ]
     },
     "metadata": {},
     "output_type": "display_data"
    }
   ],
   "source": [
    "# random forest confusion matrix\n",
    "labels = [\"0\", \"1\"]\n",
    "cm = confusion_matrix(Y_test, rf_pred)\n",
    "disp = ConfusionMatrixDisplay(confusion_matrix=cm, display_labels=labels)\n",
    "disp.plot()\n",
    "print(classification_report(Y_test, rf_pred))"
   ]
  },
  {
   "cell_type": "code",
   "execution_count": 59,
   "metadata": {
    "tags": []
   },
   "outputs": [
    {
     "name": "stderr",
     "output_type": "stream",
     "text": [
      "/Library/Frameworks/Python.framework/Versions/3.10/lib/python3.10/site-packages/sklearn/linear_model/_sag.py:350: ConvergenceWarning: The max_iter was reached which means the coef_ did not converge\n",
      "  warnings.warn(\n"
     ]
    },
    {
     "name": "stdout",
     "output_type": "stream",
     "text": [
      "Logistic Regression Accuracy: 0.5559863169897378\n"
     ]
    },
    {
     "name": "stderr",
     "output_type": "stream",
     "text": [
      "/Library/Frameworks/Python.framework/Versions/3.10/lib/python3.10/site-packages/sklearn/linear_model/_sag.py:350: ConvergenceWarning: The max_iter was reached which means the coef_ did not converge\n",
      "  warnings.warn(\n",
      "/Library/Frameworks/Python.framework/Versions/3.10/lib/python3.10/site-packages/sklearn/linear_model/_sag.py:350: ConvergenceWarning: The max_iter was reached which means the coef_ did not converge\n",
      "  warnings.warn(\n",
      "/Library/Frameworks/Python.framework/Versions/3.10/lib/python3.10/site-packages/sklearn/linear_model/_sag.py:350: ConvergenceWarning: The max_iter was reached which means the coef_ did not converge\n",
      "  warnings.warn(\n",
      "/Library/Frameworks/Python.framework/Versions/3.10/lib/python3.10/site-packages/sklearn/linear_model/_sag.py:350: ConvergenceWarning: The max_iter was reached which means the coef_ did not converge\n",
      "  warnings.warn(\n",
      "/Library/Frameworks/Python.framework/Versions/3.10/lib/python3.10/site-packages/sklearn/linear_model/_sag.py:350: ConvergenceWarning: The max_iter was reached which means the coef_ did not converge\n",
      "  warnings.warn(\n",
      "/Library/Frameworks/Python.framework/Versions/3.10/lib/python3.10/site-packages/sklearn/linear_model/_sag.py:350: ConvergenceWarning: The max_iter was reached which means the coef_ did not converge\n",
      "  warnings.warn(\n",
      "/Library/Frameworks/Python.framework/Versions/3.10/lib/python3.10/site-packages/sklearn/linear_model/_sag.py:350: ConvergenceWarning: The max_iter was reached which means the coef_ did not converge\n",
      "  warnings.warn(\n",
      "/Library/Frameworks/Python.framework/Versions/3.10/lib/python3.10/site-packages/sklearn/linear_model/_sag.py:350: ConvergenceWarning: The max_iter was reached which means the coef_ did not converge\n",
      "  warnings.warn(\n",
      "/Library/Frameworks/Python.framework/Versions/3.10/lib/python3.10/site-packages/sklearn/linear_model/_sag.py:350: ConvergenceWarning: The max_iter was reached which means the coef_ did not converge\n",
      "  warnings.warn(\n"
     ]
    },
    {
     "name": "stdout",
     "output_type": "stream",
     "text": [
      "Mean CV F1 Score: 0.6760510105878176\n",
      "Standard Deviation F1 Score: 0.0021994826991072005\n"
     ]
    },
    {
     "name": "stderr",
     "output_type": "stream",
     "text": [
      "/Library/Frameworks/Python.framework/Versions/3.10/lib/python3.10/site-packages/sklearn/linear_model/_sag.py:350: ConvergenceWarning: The max_iter was reached which means the coef_ did not converge\n",
      "  warnings.warn(\n"
     ]
    }
   ],
   "source": [
    "# logistic regression\n",
    "log_reg = LogisticRegression(fit_intercept=False, solver='sag', multi_class='multinomial', n_jobs=-1)\n",
    "\n",
    "'''\n",
    "# results of feature optimization: ['vote', 'verified', 'rev_Sentiment', 'rev_posSentiment', 'rev_negSentiment', 'summ_negSentiment', 'image', 'rev_posNegRatio', 'normalized_time', 'max_upvote', 'norm_time_diff']\n",
    "lg_features = features\n",
    "# cull features by accuracy bc doing it by f1 leads to combos putting all vecs in 1\n",
    "lg_features = feature_elim_acc(X_train, X_test, Y_train, Y_test, log_reg, lg_features)\n",
    "'''\n",
    "lg_features = ['reviewerID', 'vote', 'verified', 'rev_Sentiment', 'summ_compSentiment', 'rev_posSentiment', 'summ_posSentiment', 'rev_negSentiment', 'summ_negSentiment', 'image', 'rev_posNegRatio', 'summ_posNegRatio', 'summToRev', 'normalized_time', 'max_upvote', 'av_word_count', 'total_reviews', 'norm_time_diff']\n",
    "\n",
    "'''\n",
    "# use grid search to find best hyperparameters\n",
    "# the results are dual: False (default), fit_intercept: False, penalty: l2 (default), solver: sag\n",
    "#param_grid = {\"penalty\": ['l1', 'l2', 'elasticnet'], \"dual\": [True, False], \"fit_intercept\": [True, False], \"solver\": ['lbfgs', 'liblinear', 'newton-cg', 'newton-cholesky', 'sag', 'saga']}\n",
    "# results are multi_class: multinomial\n",
    "param_grid = {\"multi_class\": ['auto', 'ovr', 'multinomial']}\n",
    "gs = GridSearchCV(estimator=log_reg, param_grid=param_grid, scoring='f1', n_jobs=-1, cv=10, verbose=2)\n",
    "gs.fit(X[lg_features], Y)\n",
    "lg_pred = gs.predict(X_test[lg_features])\n",
    "lg_cv = pd.DataFrame(gs.cv_results_)\n",
    "'''\n",
    "\n",
    "# logit\n",
    "log_reg.fit(X_train[lg_features], Y_train)\n",
    "lg_pred = log_reg.predict(X_test[lg_features])\n",
    "\n",
    "# model accuracy\n",
    "print(\"Logistic Regression Accuracy:\",metrics.accuracy_score(Y_test, lg_pred))\n",
    "\n",
    "# 10 fold cross validation\n",
    "lg_cv = cross_val_score(log_reg, X[lg_features], Y, cv = 10, scoring='f1')\n",
    "print(\"Mean CV F1 Score:\", np.mean(lg_cv))\n",
    "print(\"Standard Deviation F1 Score:\", np.std(lg_cv))"
   ]
  },
  {
   "cell_type": "code",
   "execution_count": 60,
   "metadata": {},
   "outputs": [
    {
     "name": "stdout",
     "output_type": "stream",
     "text": [
      "              precision    recall  f1-score   support\n",
      "\n",
      "           0       0.57      0.21      0.31     10234\n",
      "           1       0.55      0.86      0.67     11691\n",
      "\n",
      "    accuracy                           0.56     21925\n",
      "   macro avg       0.56      0.53      0.49     21925\n",
      "weighted avg       0.56      0.56      0.50     21925\n",
      "\n"
     ]
    },
    {
     "data": {
      "image/png": "[encoded data removed]",
      "text/plain": [
       "<Figure size 640x480 with 2 Axes>"
      ]
     },
     "metadata": {},
     "output_type": "display_data"
    }
   ],
   "source": [
    "# logistic regression confusion matrix\n",
    "labels = [\"0\", \"1\"]\n",
    "cm = confusion_matrix(Y_test, lg_pred)\n",
    "disp = ConfusionMatrixDisplay(confusion_matrix=cm, display_labels=labels)\n",
    "disp.plot()\n",
    "print(classification_report(Y_test, lg_pred))"
   ]
  },
  {
   "cell_type": "code",
   "execution_count": 68,
   "metadata": {
    "tags": []
   },
   "outputs": [
    {
     "name": "stderr",
     "output_type": "stream",
     "text": [
      "/Library/Frameworks/Python.framework/Versions/3.10/lib/python3.10/site-packages/sklearn/linear_model/_sag.py:350: ConvergenceWarning: The max_iter was reached which means the coef_ did not converge\n",
      "  warnings.warn(\n"
     ]
    }
   ],
   "source": [
    "# late fusion\n",
    "#create a dictionary of our models\n",
    "estimators=[('rf', rf), ('tree', tree), ('log_reg', log_reg)]\n",
    "#create our voting classifier, inputting our models\n",
    "ensemble = VotingClassifier(estimators, voting='soft')\n",
    "ensemble.fit(X_train, Y_train)\n",
    "lf_pred = ensemble.predict(X_test)"
   ]
  },
  {
   "cell_type": "code",
   "execution_count": 66,
   "metadata": {
    "tags": []
   },
   "outputs": [
    {
     "name": "stdout",
     "output_type": "stream",
     "text": [
      "Late Fusion Accuracy: 0.582987457240593\n"
     ]
    },
    {
     "name": "stderr",
     "output_type": "stream",
     "text": [
      "/Library/Frameworks/Python.framework/Versions/3.10/lib/python3.10/site-packages/sklearn/linear_model/_sag.py:350: ConvergenceWarning: The max_iter was reached which means the coef_ did not converge\n",
      "  warnings.warn(\n",
      "/Library/Frameworks/Python.framework/Versions/3.10/lib/python3.10/site-packages/sklearn/linear_model/_sag.py:350: ConvergenceWarning: The max_iter was reached which means the coef_ did not converge\n",
      "  warnings.warn(\n",
      "/Library/Frameworks/Python.framework/Versions/3.10/lib/python3.10/site-packages/sklearn/linear_model/_sag.py:350: ConvergenceWarning: The max_iter was reached which means the coef_ did not converge\n",
      "  warnings.warn(\n",
      "/Library/Frameworks/Python.framework/Versions/3.10/lib/python3.10/site-packages/sklearn/linear_model/_sag.py:350: ConvergenceWarning: The max_iter was reached which means the coef_ did not converge\n",
      "  warnings.warn(\n",
      "/Library/Frameworks/Python.framework/Versions/3.10/lib/python3.10/site-packages/sklearn/linear_model/_sag.py:350: ConvergenceWarning: The max_iter was reached which means the coef_ did not converge\n",
      "  warnings.warn(\n",
      "/Library/Frameworks/Python.framework/Versions/3.10/lib/python3.10/site-packages/sklearn/linear_model/_sag.py:350: ConvergenceWarning: The max_iter was reached which means the coef_ did not converge\n",
      "  warnings.warn(\n",
      "/Library/Frameworks/Python.framework/Versions/3.10/lib/python3.10/site-packages/sklearn/linear_model/_sag.py:350: ConvergenceWarning: The max_iter was reached which means the coef_ did not converge\n",
      "  warnings.warn(\n",
      "/Library/Frameworks/Python.framework/Versions/3.10/lib/python3.10/site-packages/sklearn/linear_model/_sag.py:350: ConvergenceWarning: The max_iter was reached which means the coef_ did not converge\n",
      "  warnings.warn(\n",
      "/Library/Frameworks/Python.framework/Versions/3.10/lib/python3.10/site-packages/sklearn/linear_model/_sag.py:350: ConvergenceWarning: The max_iter was reached which means the coef_ did not converge\n",
      "  warnings.warn(\n"
     ]
    },
    {
     "name": "stdout",
     "output_type": "stream",
     "text": [
      "Mean CV F1 Score: 0.6850240597848258\n",
      "Standard Deviation F1 Score: 0.006698057292262924\n"
     ]
    },
    {
     "name": "stderr",
     "output_type": "stream",
     "text": [
      "/Library/Frameworks/Python.framework/Versions/3.10/lib/python3.10/site-packages/sklearn/linear_model/_sag.py:350: ConvergenceWarning: The max_iter was reached which means the coef_ did not converge\n",
      "  warnings.warn(\n"
     ]
    }
   ],
   "source": [
    "print(\"Late Fusion Accuracy:\",metrics.accuracy_score(Y_test, lf_pred))\n",
    "lf_cv = cross_val_score(ensemble, X, Y, cv = 10, scoring='f1')\n",
    "print(\"Mean CV F1 Score:\", np.mean(lf_cv))\n",
    "print(\"Standard Deviation F1 Score:\", np.std(lf_cv))"
   ]
  },
  {
   "cell_type": "code",
   "execution_count": 67,
   "metadata": {},
   "outputs": [
    {
     "name": "stdout",
     "output_type": "stream",
     "text": [
      "              precision    recall  f1-score   support\n",
      "\n",
      "           0       0.62      0.28      0.38     10234\n",
      "           1       0.57      0.85      0.68     11691\n",
      "\n",
      "    accuracy                           0.58     21925\n",
      "   macro avg       0.60      0.56      0.53     21925\n",
      "weighted avg       0.59      0.58      0.54     21925\n",
      "\n"
     ]
    },
    {
     "data": {
      "image/png": "[encoded data removed]",
      "text/plain": [
       "<Figure size 640x480 with 2 Axes>"
      ]
     },
     "metadata": {},
     "output_type": "display_data"
    }
   ],
   "source": [
    "labels = [\"0\", \"1\"]\n",
    "cm = confusion_matrix(Y_test, lf_pred)\n",
    "disp = ConfusionMatrixDisplay(confusion_matrix=cm, display_labels=labels)\n",
    "disp.plot()\n",
    "print(classification_report(Y_test, lf_pred))"
   ]
  },
  {
   "attachments": {},
   "cell_type": "markdown",
   "metadata": {},
   "source": [
    "## Adaboost Code"
   ]
  },
  {
   "cell_type": "code",
   "execution_count": null,
   "metadata": {},
   "outputs": [],
   "source": [
    "# helper functions for Adaboost\n",
    "def get_error_rate(pred, actual):\n",
    "    return sum(pred != actual) / float(len(actual))\n",
    "\n",
    "def print_error_rate(err):\n",
    "    print('Error rate: %.4f' %error)\n",
    "    \n",
    "def plot_error_rate(er_train, er_test):\n",
    "    df_error = pd.DataFrame([er_train, er_test]).T\n",
    "    df_error.columns = ['Training', 'Test']\n",
    "    plot1 = df_error.plot(linewidth = 3, figsize = (8,6),\n",
    "            color = ['lightblue', 'darkblue'], grid = True)\n",
    "    plot1.set_xlabel('Number of classifiers', fontsize = 12)\n",
    "    plot1.set_xticklabels(['', '1', '', '2', '', '3', '', '4'])\n",
    "    plot1.set_ylabel('Error rate', fontsize = 12)\n",
    "    plot1.set_title('Error rate vs number of classifiers', fontsize = 16)\n",
    "    plt.axhline(y=er_test[0], linewidth=1, color = 'red', ls = 'dashed')\n",
    "    \n",
    "def generic_clf(X_train, Y_train, X_test, Y_test, clf):\n",
    "    clf.fit(X_train,Y_train)\n",
    "    pred_train = clf.predict(X_train)\n",
    "    pred_test = clf.predict(X_test)\n",
    "    return get_error_rate(pred_train, Y_train), get_error_rate(pred_test, Y_test)"
   ]
  },
  {
   "cell_type": "code",
   "execution_count": null,
   "metadata": {},
   "outputs": [],
   "source": [
    "# implement Adaboost\n",
    "# fixed to use multiple classifiers, classifier-spec. features not included for now -ellen\n",
    "# source: https://github.com/jaimeps/adaboost-implementation/blob/master/adaboost.py\n",
    "\n",
    "def adaboost(X_train, Y_train, X_test, Y_test, N, classifiers, cfeatures):\n",
    "    len_train, len_test = len(X_train), len(X_test)\n",
    "    \n",
    "    # initialize weights of training samples\n",
    "    weights = np.ones(len_train) / len_train # eg. 11 samples, weight = 1/11\n",
    "    pred_train, pred_test = np.zeros(len_train), np.zeros(len_test)\n",
    "    \n",
    "    for i in range(N): # N training subsets\n",
    "        # fit classifier with the most updated weights\n",
    "        classifiers[i].fit(X_train, Y_train, sample_weight = weights)\n",
    "        pred_train_i = classifiers[i].predict(X_train)\n",
    "        pred_test_i = classifiers[i].predict(X_test)\n",
    "        \n",
    "        # indicate whether predicted value matches with ground truth\n",
    "        ind = [int(x) for x in (pred_train_i != Y_train)]\n",
    "        ind_sign = [x if x==1 else -1 for x in ind] # determines e^-acc or e^acc\n",
    "        pred_train_i = [x if x==1 else -1 for x in pred_train_i]\n",
    "        pred_test_i = [x if x==1 else -1 for x in pred_train_i]\n",
    "        \n",
    "        # calculate error\n",
    "        err = np.dot(weights, ind) / sum(weights) # numerator is sum of (weights.result)\n",
    "        # calculate accuracy\n",
    "        acc = 0.5 * np.log((1 - err) / float(err))\n",
    "        \n",
    "        # update weights\n",
    "        weights = np.multiply(weights, np.exp([float(x) * acc for x in ind_sign]))\n",
    "        # add to predictions\n",
    "        pred_train = [sum(x) for x in zip(pred_train,\n",
    "                                          [x * acc for x in pred_train_i])]\n",
    "        pred_test = [sum(x) for x in zip(pred_test,\n",
    "                                         [x * acc for x in pred_test_i])]\n",
    "\n",
    "    pred_train, pred_test = np.sign(pred_train), np.sign(pred_test)\n",
    "    pred_train = [x if x==1 else 0 for x in pred_train]\n",
    "    pred_test = [x if x==1 else 0 for x in pred_test]\n",
    "    \n",
    "    return get_error_rate(pred_train, Y_train), get_error_rate(pred_test, Y_test), pred_test\n"
   ]
  },
  {
   "cell_type": "code",
   "execution_count": null,
   "metadata": {},
   "outputs": [],
   "source": [
    "# declare classifiers\n",
    "gnb = GaussianNB()\n",
    "#gnb_features = ['vote', 'verified', 'rev_Sentiment', 'rev_posSentiment', 'rev_negSentiment', 'summ_negSentiment', 'image', 'rev_posNegRatio', 'normalized_time', 'max_upvote', 'norm_time_diff']\n",
    "tree = DecisionTreeClassifier(criterion='entropy', max_depth = 3)\n",
    "#tree_features = ['verified', 'rev_negSentiment', 'summ_negSentiment', 'total_reviews', 'norm_time_diff']\n",
    "rf = RandomForestClassifier(n_estimators = 28, max_depth = 1, n_jobs=-1)\n",
    "#rf_features = features\n",
    "lr = LogisticRegression()\n",
    "#lr_features = features\n",
    "\n",
    "classifiers = [gnb, tree, rf, lr]\n",
    "#cfeatures = [gnb_features, tree_features, rf_features, lr_features]\n",
    "cfeatures = []\n",
    "\n",
    "x_range = range(1,5)\n",
    "er_tree = generic_clf(X_train, Y_train, X_test, Y_test, tree)\n",
    "#er_train, er_test = [er_tree[0]], [er_tree[1]]\n",
    "er_train, er_test, ab_pred = [], [], []\n",
    "\n",
    "# run Adaboost using gnb, decision tree, rand forest, logistic regression\n",
    "# test with different # of iterations\n",
    "for i in x_range:\n",
    "    er_i = adaboost(X_train, Y_train, X_test, Y_test, i, classifiers, cfeatures)\n",
    "    er_train.append(er_i[0])\n",
    "    er_test.append(er_i[1])\n",
    "    ab_pred.append(er_i[2])\n",
    "\n",
    "plot_error_rate(er_train, er_test)"
   ]
  }
 ],
 "metadata": {
  "kernelspec": {
   "display_name": "Python 3 (ipykernel)",
   "language": "python",
   "name": "python3"
  },
  "language_info": {
   "codemirror_mode": {
    "name": "ipython",
    "version": 3
   },
   "file_extension": ".py",
   "mimetype": "text/x-python",
   "name": "python",
   "nbconvert_exporter": "python",
   "pygments_lexer": "ipython3",
   "version": "3.10.2"
  }
 },
 "nbformat": 4,
 "nbformat_minor": 4
}
