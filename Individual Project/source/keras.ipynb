{
 "cells": [
  {
   "cell_type": "code",
   "execution_count": 23,
   "metadata": {},
   "outputs": [],
   "source": [
    "import numpy as np\n",
    "import pandas as pd\n",
    "import os\n",
    "import math\n",
    "import pickle\n",
    "\n",
    "import nltk\n",
    "from nltk.sentiment.vader import SentimentIntensityAnalyzer\n",
    "from nltk.corpus import stopwords\n",
    "from nltk.tokenize import word_tokenize\n",
    "from nltk.stem import WordNetLemmatizer\n",
    "\n",
    "from sklearn.naive_bayes import GaussianNB, MultinomialNB\n",
    "from sklearn.tree import DecisionTreeClassifier\n",
    "from sklearn.ensemble import RandomForestClassifier\n",
    "from sklearn.neighbors import KNeighborsClassifier\n",
    "from sklearn.feature_selection import GenericUnivariateSelect, RFECV, chi2\n",
    "from sklearn.model_selection import train_test_split, cross_val_score, GridSearchCV, RandomizedSearchCV\n",
    "from sklearn import metrics\n",
    "from scipy.stats import randint\n",
    "from sklearn.preprocessing import MinMaxScaler\n",
    "from sklearn.linear_model import LogisticRegression\n",
    "from sklearn.ensemble import VotingClassifier\n",
    "\n",
    "from sklearn.neural_network import MLPClassifier\n",
    "from sklearn.feature_extraction.text import TfidfVectorizer\n",
    "from sklearn.compose import ColumnTransformer\n",
    "from sklearn.pipeline import Pipeline\n",
    "from sklearn.svm import LinearSVC\n",
    "\n",
    "\n",
    "from sklearn.metrics import (\n",
    "    accuracy_score,\n",
    "    confusion_matrix,\n",
    "    ConfusionMatrixDisplay,\n",
    "    f1_score,\n",
    "    classification_report,\n",
    ")\n",
    "\n",
    "from keras.models import Sequential\n",
    "from keras.layers import Dense\n",
    "from keras.optimizers import SGD\n",
    "from keras.wrappers.scikit_learn import KerasClassifier\n",
    "from sklearn.model_selection import StratifiedKFold\n",
    "from keras import backend as K"
   ]
  },
  {
   "cell_type": "code",
   "execution_count": 3,
   "metadata": {},
   "outputs": [],
   "source": [
    "current_directory = os.getcwd()\n",
    "review_training_df = pd.read_json(os.path.join(current_directory, 'training_preprocessed_scaled.json'))"
   ]
  },
  {
   "cell_type": "code",
   "execution_count": 53,
   "metadata": {},
   "outputs": [],
   "source": [
    "features = review_training_df.columns.to_list()\n",
    "features.remove('asin')\n",
    "features.remove('awesomeness')\n",
    "features.remove('joinedReviews')\n",
    "features.remove('joinedSummary')\n",
    "\n",
    "X = review_training_df[['rev_Sentiment', 'verified']]\n",
    "Y = review_training_df['awesomeness']\n",
    "X_train, X_test, Y_train, Y_test = train_test_split(X, Y, test_size = 0.3, random_state = 1)"
   ]
  },
  {
   "cell_type": "code",
   "execution_count": 48,
   "metadata": {},
   "outputs": [],
   "source": [
    "def get_f1(y_true, y_pred): #taken from old keras source code\n",
    "    true_positives = K.sum(K.round(K.clip(y_true * y_pred, 0, 1)))\n",
    "    possible_positives = K.sum(K.round(K.clip(y_true, 0, 1)))\n",
    "    predicted_positives = K.sum(K.round(K.clip(y_pred, 0, 1)))\n",
    "    precision = true_positives / (predicted_positives + K.epsilon())\n",
    "    recall = true_positives / (possible_positives + K.epsilon())\n",
    "    f1_val = 2*(precision*recall)/(precision+recall+K.epsilon())\n",
    "    return f1_val"
   ]
  },
  {
   "cell_type": "code",
   "execution_count": 54,
   "metadata": {},
   "outputs": [],
   "source": [
    "basic_model = Sequential()\n",
    "\n",
    "# Adding layers to the model\n",
    "# First layers: 16 neurons/perceptrons that takes the input and uses 'sigmoid' activation function.\n",
    "basic_model.add(Dense(units = 16 , activation = 'sigmoid', input_shape = (2,))) \n",
    "# Second layer: 1 neuron/perceptron that takes the input from the 1st layers and gives output as 0 or 1.Activation used is 'Hard Sigmoid'\n",
    "basic_model.add(Dense(1, activation = 'hard_sigmoid'))"
   ]
  },
  {
   "cell_type": "code",
   "execution_count": 55,
   "metadata": {},
   "outputs": [
    {
     "name": "stdout",
     "output_type": "stream",
     "text": [
      "Epoch 1/10\n"
     ]
    },
    {
     "name": "stderr",
     "output_type": "stream",
     "text": [
      "/Library/Frameworks/Python.framework/Versions/3.10/lib/python3.10/site-packages/keras/optimizers/legacy/gradient_descent.py:114: UserWarning: The `lr` argument is deprecated, use `learning_rate` instead.\n",
      "  super().__init__(name, **kwargs)\n"
     ]
    },
    {
     "name": "stdout",
     "output_type": "stream",
     "text": [
      "1599/1599 [==============================] - 2s 1ms/step - loss: 0.6955 - get_f1: 0.6895 - accuracy: 0.5314\n",
      "Epoch 2/10\n",
      "1599/1599 [==============================] - 2s 1ms/step - loss: 0.6934 - get_f1: 0.6895 - accuracy: 0.5314\n",
      "Epoch 3/10\n",
      "1599/1599 [==============================] - 1s 925us/step - loss: 0.6929 - get_f1: 0.6897 - accuracy: 0.5314\n",
      "Epoch 4/10\n",
      "1599/1599 [==============================] - 2s 952us/step - loss: 0.6925 - get_f1: 0.6895 - accuracy: 0.5314\n",
      "Epoch 5/10\n",
      "1599/1599 [==============================] - 1s 891us/step - loss: 0.6921 - get_f1: 0.6897 - accuracy: 0.5314\n",
      "Epoch 6/10\n",
      "1599/1599 [==============================] - 2s 990us/step - loss: 0.6919 - get_f1: 0.6895 - accuracy: 0.5314\n",
      "Epoch 7/10\n",
      "1599/1599 [==============================] - 1s 913us/step - loss: 0.6916 - get_f1: 0.6895 - accuracy: 0.5314\n",
      "Epoch 8/10\n",
      "1599/1599 [==============================] - 1s 898us/step - loss: 0.6913 - get_f1: 0.6896 - accuracy: 0.5314\n",
      "Epoch 9/10\n",
      "1599/1599 [==============================] - 2s 997us/step - loss: 0.6911 - get_f1: 0.6897 - accuracy: 0.5314\n",
      "Epoch 10/10\n",
      "1599/1599 [==============================] - 1s 892us/step - loss: 0.6909 - get_f1: 0.6891 - accuracy: 0.5314\n"
     ]
    },
    {
     "data": {
      "text/plain": [
       "<keras.callbacks.History at 0x13ed27b20>"
      ]
     },
     "execution_count": 55,
     "metadata": {},
     "output_type": "execute_result"
    }
   ],
   "source": [
    "# compiling the model\n",
    "sgd = SGD(lr=0.01)\n",
    "basic_model.compile(loss = 'binary_crossentropy', optimizer = 'sgd', metrics = [get_f1, 'accuracy'])\n",
    "basic_model.fit(X_train, Y_train, epochs=10)\n"
   ]
  },
  {
   "cell_type": "code",
   "execution_count": 44,
   "metadata": {},
   "outputs": [
    {
     "name": "stdout",
     "output_type": "stream",
     "text": [
      "686/686 [==============================] - 1s 666us/step\n"
     ]
    }
   ],
   "source": [
    "model_pred = (basic_model.predict(X_test) > 0.5).astype(\"int32\")"
   ]
  },
  {
   "cell_type": "code",
   "execution_count": 45,
   "metadata": {},
   "outputs": [
    {
     "name": "stdout",
     "output_type": "stream",
     "text": [
      "              precision    recall  f1-score   support\n",
      "\n",
      "           0       0.00      0.00      0.00     10234\n",
      "           1       0.53      1.00      0.70     11691\n",
      "\n",
      "    accuracy                           0.53     21925\n",
      "   macro avg       0.27      0.50      0.35     21925\n",
      "weighted avg       0.28      0.53      0.37     21925\n",
      "\n"
     ]
    },
    {
     "name": "stderr",
     "output_type": "stream",
     "text": [
      "/Library/Frameworks/Python.framework/Versions/3.10/lib/python3.10/site-packages/sklearn/metrics/_classification.py:1344: UndefinedMetricWarning: Precision and F-score are ill-defined and being set to 0.0 in labels with no predicted samples. Use `zero_division` parameter to control this behavior.\n",
      "  _warn_prf(average, modifier, msg_start, len(result))\n",
      "/Library/Frameworks/Python.framework/Versions/3.10/lib/python3.10/site-packages/sklearn/metrics/_classification.py:1344: UndefinedMetricWarning: Precision and F-score are ill-defined and being set to 0.0 in labels with no predicted samples. Use `zero_division` parameter to control this behavior.\n",
      "  _warn_prf(average, modifier, msg_start, len(result))\n",
      "/Library/Frameworks/Python.framework/Versions/3.10/lib/python3.10/site-packages/sklearn/metrics/_classification.py:1344: UndefinedMetricWarning: Precision and F-score are ill-defined and being set to 0.0 in labels with no predicted samples. Use `zero_division` parameter to control this behavior.\n",
      "  _warn_prf(average, modifier, msg_start, len(result))\n"
     ]
    },
    {
     "data": {
      "image/png": "[encoded data removed]",
      "text/plain": [
       "<Figure size 640x480 with 2 Axes>"
      ]
     },
     "metadata": {},
     "output_type": "display_data"
    }
   ],
   "source": [
    "labels = [\"0\", \"1\"]\n",
    "cm = confusion_matrix(Y_test, model_pred)\n",
    "disp = ConfusionMatrixDisplay(confusion_matrix=cm, display_labels=labels)\n",
    "disp.plot()\n",
    "print(classification_report(Y_test, model_pred))"
   ]
  },
  {
   "cell_type": "code",
   "execution_count": 33,
   "metadata": {},
   "outputs": [
    {
     "data": {
      "text/plain": [
       "array([[1],\n",
       "       [1],\n",
       "       [1],\n",
       "       ...,\n",
       "       [1],\n",
       "       [1],\n",
       "       [1]], dtype=int32)"
      ]
     },
     "execution_count": 33,
     "metadata": {},
     "output_type": "execute_result"
    }
   ],
   "source": [
    "model_pred"
   ]
  },
  {
   "cell_type": "code",
   "execution_count": 60,
   "metadata": {},
   "outputs": [],
   "source": [
    "test1 = pd.read_json(\"/Users/IanShi/Downloads/CDs_and_Vinyl_test1_labels.json\")\n",
    "test2 = pd.read_json(\"/Users/IanShi/Downloads/CDs_and_Vinyl_test2_labels.json\")"
   ]
  },
  {
   "cell_type": "code",
   "execution_count": 63,
   "metadata": {},
   "outputs": [
    {
     "data": {
      "text/html": [
       "<div>\n",
       "<style scoped>\n",
       "    .dataframe tbody tr th:only-of-type {\n",
       "        vertical-align: middle;\n",
       "    }\n",
       "\n",
       "    .dataframe tbody tr th {\n",
       "        vertical-align: top;\n",
       "    }\n",
       "\n",
       "    .dataframe thead th {\n",
       "        text-align: right;\n",
       "    }\n",
       "</style>\n",
       "<table border=\"1\" class=\"dataframe\">\n",
       "  <thead>\n",
       "    <tr style=\"text-align: right;\">\n",
       "      <th></th>\n",
       "      <th>asin</th>\n",
       "      <th>awesomeness</th>\n",
       "    </tr>\n",
       "  </thead>\n",
       "  <tbody>\n",
       "    <tr>\n",
       "      <th>0</th>\n",
       "      <td>000093D54374AFE4B358EA5FBCB5776E</td>\n",
       "      <td>1</td>\n",
       "    </tr>\n",
       "    <tr>\n",
       "      <th>1</th>\n",
       "      <td>0000B049F5B33CD310EB1AB236E20191</td>\n",
       "      <td>1</td>\n",
       "    </tr>\n",
       "    <tr>\n",
       "      <th>2</th>\n",
       "      <td>000577BC760B4C7BD980939F0CB41F65</td>\n",
       "      <td>0</td>\n",
       "    </tr>\n",
       "    <tr>\n",
       "      <th>3</th>\n",
       "      <td>006200BEA7FE89A51080FE699DBE479B</td>\n",
       "      <td>1</td>\n",
       "    </tr>\n",
       "    <tr>\n",
       "      <th>4</th>\n",
       "      <td>04500D72BF81F8D5B00805B8E2E0E064</td>\n",
       "      <td>1</td>\n",
       "    </tr>\n",
       "    <tr>\n",
       "      <th>...</th>\n",
       "      <td>...</td>\n",
       "      <td>...</td>\n",
       "    </tr>\n",
       "    <tr>\n",
       "      <th>59921</th>\n",
       "      <td>2A037AF5BA7F5E3CBB5527F81B2E0FBD</td>\n",
       "      <td>1</td>\n",
       "    </tr>\n",
       "    <tr>\n",
       "      <th>59922</th>\n",
       "      <td>2A049F6BDE2F1538C7AA88FF38C6C24B</td>\n",
       "      <td>0</td>\n",
       "    </tr>\n",
       "    <tr>\n",
       "      <th>59923</th>\n",
       "      <td>2A07E088AB3E00F5C097C54326D84C37</td>\n",
       "      <td>0</td>\n",
       "    </tr>\n",
       "    <tr>\n",
       "      <th>59924</th>\n",
       "      <td>2A0BA71EB9D661168A8CC2310FB1F82D</td>\n",
       "      <td>1</td>\n",
       "    </tr>\n",
       "    <tr>\n",
       "      <th>59925</th>\n",
       "      <td>2A0C415B557EE513AFF70D5BFCE03F2A</td>\n",
       "      <td>0</td>\n",
       "    </tr>\n",
       "  </tbody>\n",
       "</table>\n",
       "<p>59926 rows × 2 columns</p>\n",
       "</div>"
      ],
      "text/plain": [
       "                                   asin  awesomeness\n",
       "0      000093D54374AFE4B358EA5FBCB5776E            1\n",
       "1      0000B049F5B33CD310EB1AB236E20191            1\n",
       "2      000577BC760B4C7BD980939F0CB41F65            0\n",
       "3      006200BEA7FE89A51080FE699DBE479B            1\n",
       "4      04500D72BF81F8D5B00805B8E2E0E064            1\n",
       "...                                 ...          ...\n",
       "59921  2A037AF5BA7F5E3CBB5527F81B2E0FBD            1\n",
       "59922  2A049F6BDE2F1538C7AA88FF38C6C24B            0\n",
       "59923  2A07E088AB3E00F5C097C54326D84C37            0\n",
       "59924  2A0BA71EB9D661168A8CC2310FB1F82D            1\n",
       "59925  2A0C415B557EE513AFF70D5BFCE03F2A            0\n",
       "\n",
       "[59926 rows x 2 columns]"
      ]
     },
     "execution_count": 63,
     "metadata": {},
     "output_type": "execute_result"
    }
   ],
   "source": [
    "test1"
   ]
  },
  {
   "cell_type": "code",
   "execution_count": 64,
   "metadata": {},
   "outputs": [
    {
     "data": {
      "text/html": [
       "<div>\n",
       "<style scoped>\n",
       "    .dataframe tbody tr th:only-of-type {\n",
       "        vertical-align: middle;\n",
       "    }\n",
       "\n",
       "    .dataframe tbody tr th {\n",
       "        vertical-align: top;\n",
       "    }\n",
       "\n",
       "    .dataframe thead th {\n",
       "        text-align: right;\n",
       "    }\n",
       "</style>\n",
       "<table border=\"1\" class=\"dataframe\">\n",
       "  <thead>\n",
       "    <tr style=\"text-align: right;\">\n",
       "      <th></th>\n",
       "      <th>asin</th>\n",
       "      <th>awesomeness</th>\n",
       "    </tr>\n",
       "  </thead>\n",
       "  <tbody>\n",
       "    <tr>\n",
       "      <th>0</th>\n",
       "      <td>0000B049F5B33CD310EB1AB236E20191</td>\n",
       "      <td>1</td>\n",
       "    </tr>\n",
       "    <tr>\n",
       "      <th>1</th>\n",
       "      <td>00018184A9EC4D270219A296B2580303</td>\n",
       "      <td>0</td>\n",
       "    </tr>\n",
       "    <tr>\n",
       "      <th>2</th>\n",
       "      <td>000A550D7684BF23E1E6ABAEDC6AF618</td>\n",
       "      <td>1</td>\n",
       "    </tr>\n",
       "    <tr>\n",
       "      <th>3</th>\n",
       "      <td>007F749FFD59F60FECF162D41F2ED5BC</td>\n",
       "      <td>1</td>\n",
       "    </tr>\n",
       "    <tr>\n",
       "      <th>4</th>\n",
       "      <td>05145CC9D1558BE45CECDBA7464441D9</td>\n",
       "      <td>0</td>\n",
       "    </tr>\n",
       "    <tr>\n",
       "      <th>...</th>\n",
       "      <td>...</td>\n",
       "      <td>...</td>\n",
       "    </tr>\n",
       "    <tr>\n",
       "      <th>51522</th>\n",
       "      <td>310C774B5AD7E4CC8611AE1AA83E9B18</td>\n",
       "      <td>0</td>\n",
       "    </tr>\n",
       "    <tr>\n",
       "      <th>51523</th>\n",
       "      <td>31117331599F89E8D92591881C2B6A85</td>\n",
       "      <td>1</td>\n",
       "    </tr>\n",
       "    <tr>\n",
       "      <th>51524</th>\n",
       "      <td>3111C9228A1836E8F470A59603DE0EAC</td>\n",
       "      <td>0</td>\n",
       "    </tr>\n",
       "    <tr>\n",
       "      <th>51525</th>\n",
       "      <td>3119C010501FA34A2DA95C0497EBD65C</td>\n",
       "      <td>1</td>\n",
       "    </tr>\n",
       "    <tr>\n",
       "      <th>51526</th>\n",
       "      <td>311AB92A6A185257E13812ECA99DD57E</td>\n",
       "      <td>0</td>\n",
       "    </tr>\n",
       "  </tbody>\n",
       "</table>\n",
       "<p>51527 rows × 2 columns</p>\n",
       "</div>"
      ],
      "text/plain": [
       "                                   asin  awesomeness\n",
       "0      0000B049F5B33CD310EB1AB236E20191            1\n",
       "1      00018184A9EC4D270219A296B2580303            0\n",
       "2      000A550D7684BF23E1E6ABAEDC6AF618            1\n",
       "3      007F749FFD59F60FECF162D41F2ED5BC            1\n",
       "4      05145CC9D1558BE45CECDBA7464441D9            0\n",
       "...                                 ...          ...\n",
       "51522  310C774B5AD7E4CC8611AE1AA83E9B18            0\n",
       "51523  31117331599F89E8D92591881C2B6A85            1\n",
       "51524  3111C9228A1836E8F470A59603DE0EAC            0\n",
       "51525  3119C010501FA34A2DA95C0497EBD65C            1\n",
       "51526  311AB92A6A185257E13812ECA99DD57E            0\n",
       "\n",
       "[51527 rows x 2 columns]"
      ]
     },
     "execution_count": 64,
     "metadata": {},
     "output_type": "execute_result"
    }
   ],
   "source": [
    "test2"
   ]
  },
  {
   "cell_type": "code",
   "execution_count": 61,
   "metadata": {},
   "outputs": [
    {
     "name": "stdout",
     "output_type": "stream",
     "text": [
      "asin           000093D54374AFE4B358EA5FBCB5776E0000B049F5B33C...\n",
      "awesomeness                                                31803\n",
      "dtype: object\n",
      "asin           0000B049F5B33CD310EB1AB236E2019100018184A9EC4D...\n",
      "awesomeness                                                27326\n",
      "dtype: object\n"
     ]
    }
   ],
   "source": [
    "print(test1.sum())\n",
    "print(test2.sum())\n"
   ]
  },
  {
   "cell_type": "code",
   "execution_count": null,
   "metadata": {},
   "outputs": [],
   "source": []
  }
 ],
 "metadata": {
  "kernelspec": {
   "display_name": "Python 3",
   "language": "python",
   "name": "python3"
  },
  "language_info": {
   "codemirror_mode": {
    "name": "ipython",
    "version": 3
   },
   "file_extension": ".py",
   "mimetype": "text/x-python",
   "name": "python",
   "nbconvert_exporter": "python",
   "pygments_lexer": "ipython3",
   "version": "3.10.7"
  },
  "orig_nbformat": 4
 },
 "nbformat": 4,
 "nbformat_minor": 2
}
